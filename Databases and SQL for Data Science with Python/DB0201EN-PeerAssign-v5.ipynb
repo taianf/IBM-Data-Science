{
 "cells": [
  {
   "cell_type": "markdown",
   "metadata": {},
   "source": [
    "<center>\n",
    "    <img src=\"https://cf-courses-data.s3.us.cloud-object-storage.appdomain.cloud/IBMDeveloperSkillsNetwork-DB0201EN-SkillsNetwork/labs/FinalModule_Coursera_V5/images/SN_web_lightmode.png\" width=\"300\" alt=\"cognitiveclass.ai logo\">\n",
    "</center>\n",
    "\n",
    "<h1 align=center><font size = 5>Assignment: Notebook for Peer Assignment</font></h1>\n"
   ]
  },
  {
   "cell_type": "markdown",
   "metadata": {},
   "source": [
    "# Introduction\n",
    "\n",
    "Using this Python notebook you will:\n",
    "\n",
    "1.  Understand three Chicago datasets  \n",
    "2.  Load the three datasets into three tables in a Db2 database\n",
    "3.  Execute SQL queries to answer assignment questions \n"
   ]
  },
  {
   "cell_type": "markdown",
   "metadata": {},
   "source": [
    "## Understand the datasets\n",
    "\n",
    "To complete the assignment problems in this notebook you will be using three datasets that are available on the city of Chicago's Data Portal:\n",
    "\n",
    "1.  <a href=\"https://data.cityofchicago.org/Health-Human-Services/Census-Data-Selected-socioeconomic-indicators-in-C/kn9c-c2s2?utm_medium=Exinfluencer&utm_source=Exinfluencer&utm_content=000026UJ&utm_term=10006555&utm_id=NA-SkillsNetwork-Channel-SkillsNetworkCoursesIBMDeveloperSkillsNetworkDB0201ENSkillsNetwork22-2022-01-01\">Socioeconomic Indicators in Chicago</a>\n",
    "2.  <a href=\"https://data.cityofchicago.org/Education/Chicago-Public-Schools-Progress-Report-Cards-2011-/9xs2-f89t?utm_medium=Exinfluencer&utm_source=Exinfluencer&utm_content=000026UJ&utm_term=10006555&utm_id=NA-SkillsNetwork-Channel-SkillsNetworkCoursesIBMDeveloperSkillsNetworkDB0201ENSkillsNetwork22-2022-01-01\">Chicago Public Schools</a>\n",
    "3.  <a href=\"https://data.cityofchicago.org/Public-Safety/Crimes-2001-to-present/ijzp-q8t2?utm_medium=Exinfluencer&utm_source=Exinfluencer&utm_content=000026UJ&utm_term=10006555&utm_id=NA-SkillsNetwork-Channel-SkillsNetworkCoursesIBMDeveloperSkillsNetworkDB0201ENSkillsNetwork22-2022-01-01\">Chicago Crime Data</a>\n",
    "\n",
    "### 1. Socioeconomic Indicators in Chicago\n",
    "\n",
    "This dataset contains a selection of six socioeconomic indicators of public health significance and a “hardship index,” for each Chicago community area, for the years 2008 – 2012.\n",
    "\n",
    "A detailed description of this dataset and the original dataset can be obtained from the Chicago Data Portal at:\n",
    "[https://data.cityofchicago.org/Health-Human-Services/Census-Data-Selected-socioeconomic-indicators-in-C/kn9c-c2s2](https://data.cityofchicago.org/Health-Human-Services/Census-Data-Selected-socioeconomic-indicators-in-C/kn9c-c2s2?utm_medium=Exinfluencer&utm_source=Exinfluencer&utm_content=000026UJ&utm_term=10006555&utm_id=NA-SkillsNetwork-Channel-SkillsNetworkCoursesIBMDeveloperSkillsNetworkDB0201ENSkillsNetwork22-2022-01-01&cm_mmc=Email_Newsletter-_-Developer_Ed%2BTech-_-WW_WW-_-SkillsNetwork-Courses-IBMDeveloperSkillsNetwork-DB0201EN-SkillsNetwork-20127838&cm_mmca1=000026UJ&cm_mmca2=10006555&cm_mmca3=M12345678&cvosrc=email.Newsletter.M12345678&cvo_campaign=000026UJ)\n",
    "\n",
    "### 2. Chicago Public Schools\n",
    "\n",
    "This dataset shows all school level performance data used to create CPS School Report Cards for the 2011-2012 school year. This dataset is provided by the city of Chicago's Data Portal.\n",
    "\n",
    "A detailed description of this dataset and the original dataset can be obtained from the Chicago Data Portal at:\n",
    "[https://data.cityofchicago.org/Education/Chicago-Public-Schools-Progress-Report-Cards-2011-/9xs2-f89t](https://data.cityofchicago.org/Education/Chicago-Public-Schools-Progress-Report-Cards-2011-/9xs2-f89t?utm_medium=Exinfluencer&utm_source=Exinfluencer&utm_content=000026UJ&utm_term=10006555&utm_id=NA-SkillsNetwork-Channel-SkillsNetworkCoursesIBMDeveloperSkillsNetworkDB0201ENSkillsNetwork22-2022-01-01&cm_mmc=Email_Newsletter-_-Developer_Ed%2BTech-_-WW_WW-_-SkillsNetwork-Courses-IBMDeveloperSkillsNetwork-DB0201EN-SkillsNetwork-20127838&cm_mmca1=000026UJ&cm_mmca2=10006555&cm_mmca3=M12345678&cvosrc=email.Newsletter.M12345678&cvo_campaign=000026UJ)\n",
    "\n",
    "### 3. Chicago Crime Data\n",
    "\n",
    "This dataset reflects reported incidents of crime (with the exception of murders where data exists for each victim) that occurred in the City of Chicago from 2001 to present, minus the most recent seven days. \n",
    "\n",
    "A detailed description of this dataset and the original dataset can be obtained from the Chicago Data Portal at:\n",
    "[https://data.cityofchicago.org/Public-Safety/Crimes-2001-to-present/ijzp-q8t2](https://data.cityofchicago.org/Public-Safety/Crimes-2001-to-present/ijzp-q8t2?utm_medium=Exinfluencer&utm_source=Exinfluencer&utm_content=000026UJ&utm_term=10006555&utm_id=NA-SkillsNetwork-Channel-SkillsNetworkCoursesIBMDeveloperSkillsNetworkDB0201ENSkillsNetwork22-2022-01-01&cm_mmc=Email_Newsletter-_-Developer_Ed%2BTech-_-WW_WW-_-SkillsNetwork-Courses-IBMDeveloperSkillsNetwork-DB0201EN-SkillsNetwork-20127838&cm_mmca1=000026UJ&cm_mmca2=10006555&cm_mmca3=M12345678&cvosrc=email.Newsletter.M12345678&cvo_campaign=000026UJ)\n"
   ]
  },
  {
   "cell_type": "markdown",
   "metadata": {},
   "source": [
    "### Download the datasets\n",
    "\n",
    "This assignment requires you to have these three tables populated with a subset of the whole datasets.\n",
    "\n",
    "In many cases the dataset to be analyzed is available as a .CSV (comma separated values) file, perhaps on the internet. Click on the links below to download and save the datasets (.CSV files):\n",
    "\n",
    "- <a href=\"https://cf-courses-data.s3.us.cloud-object-storage.appdomain.cloud/IBMDeveloperSkillsNetwork-DB0201EN-SkillsNetwork/labs/FinalModule_Coursera_V5/data/ChicagoCensusData.csv\" target=\"_blank\">Chicago Census Data</a>\n",
    "\n",
    "- <a href=\"https://cf-courses-data.s3.us.cloud-object-storage.appdomain.cloud/IBMDeveloperSkillsNetwork-DB0201EN-SkillsNetwork/labs/FinalModule_Coursera_V5/data/ChicagoPublicSchools.csv\" target=\"_blank\">Chicago Public Schools</a>\n",
    "\n",
    "- <a href=\"https://cf-courses-data.s3.us.cloud-object-storage.appdomain.cloud/IBMDeveloperSkillsNetwork-DB0201EN-SkillsNetwork/labs/FinalModule_Coursera_V5/data/ChicagoCrimeData.csv\" target=\"_blank\">Chicago Crime Data</a>\n",
    "\n",
    "**NOTE**: For the learners who are encountering issues with loading from .csv in DB2 on Firefox, you can download the .txt files and load the data with those:\n",
    "\n",
    "- <a href=\"https://cf-courses-data.s3.us.cloud-object-storage.appdomain.cloud/IBMDeveloperSkillsNetwork-DB0201EN-SkillsNetwork/labs/FinalModule_Coursera_V5/data/ChicagoCensusData.txt\" target=\"_blank\">Chicago Census Data</a>\n",
    "    \n",
    "- <a href=\"https://cf-courses-data.s3.us.cloud-object-storage.appdomain.cloud/IBMDeveloperSkillsNetwork-DB0201EN-SkillsNetwork/labs/FinalModule_Coursera_V5/data/ChicagoPublicSchools.txt\" target=\"_blank\">Chicago Public Schools</a>\n",
    "  \n",
    "- <a href=\"https://cf-courses-data.s3.us.cloud-object-storage.appdomain.cloud/IBMDeveloperSkillsNetwork-DB0201EN-SkillsNetwork/labs/FinalModule_Coursera_V5/data/ChicagoCrimeData.txt\" target=\"_blank\">Chicago Crime Data</a>\n",
    "\n",
    "**NOTE:** Ensure you have downloaded the datasets using the links above instead of directly from the Chicago Data Portal. The versions linked here are subsets of the original datasets and have some of the column names modified to be more database friendly which will make it easier to complete this assignment.\n"
   ]
  },
  {
   "cell_type": "markdown",
   "metadata": {},
   "source": [
    "### Store the datasets in database tables\n",
    "\n",
    "To analyze the data using SQL, it first needs to be stored in the database.\n",
    "\n",
    "While it is easier to read the dataset into a Pandas dataframe and then PERSIST it into the database as we saw in Week 3 Lab 3, it results in mapping to default datatypes which may not be optimal for SQL querying. For example a long textual field may map to a CLOB instead of a VARCHAR. \n",
    "\n",
    "Therefore, **it is highly recommended to manually load the table using the database console LOAD tool, as indicated in Week 2 Lab 1 Part II**. The only difference with that lab is that in Step 5 of the instructions you will need to click on create \"(+) New Table\" and specify the name of the table you want to create and then click \"Next\". \n",
    "\n",
    "<img src=\"https://cf-courses-data.s3.us.cloud-object-storage.appdomain.cloud/IBMDeveloperSkillsNetwork-DB0201EN-SkillsNetwork/labs/FinalModule_Coursera_V5/images/LoadingData.png\">\n",
    "\n",
    "##### Now open the Db2 console, open the LOAD tool, Select / Drag the .CSV file for the first dataset, Next create a New Table, and then follow the steps on-screen instructions to load the data. Name the new tables as follows:\n",
    "\n",
    "1.  **CENSUS_DATA**\n",
    "2.  **CHICAGO_PUBLIC_SCHOOLS**\n",
    "3.  **CHICAGO_CRIME_DATA**\n"
   ]
  },
  {
   "cell_type": "markdown",
   "metadata": {},
   "source": [
    "### Connect to the database\n",
    "\n",
    "Let us first load the SQL extension and establish a connection with the database\n",
    "\n",
    "The following required modules are pre-installed in the Skills Network Labs environment. However if you run this notebook commands in a different Jupyter environment (e.g. Watson Studio or Ananconda) you may need to install these libraries by removing the `#` sign before `!pip` in the code cell below.\n"
   ]
  },
  {
   "cell_type": "code",
   "execution_count": 1,
   "metadata": {},
   "outputs": [
    {
     "name": "stdout",
     "output_type": "stream",
     "text": [
      "Requirement already satisfied: jupysql in c:\\github\\ibm-data-science\\venv\\lib\\site-packages (0.6.0)\n",
      "Requirement already satisfied: duckdb in c:\\github\\ibm-data-science\\venv\\lib\\site-packages (0.7.1)\n",
      "Requirement already satisfied: duckdb-engine in c:\\github\\ibm-data-science\\venv\\lib\\site-packages (0.6.8)\n",
      "Requirement already satisfied: prettytable<1 in c:\\github\\ibm-data-science\\venv\\lib\\site-packages (from jupysql) (0.7.2)\n",
      "Requirement already satisfied: ipython>=1.0 in c:\\github\\ibm-data-science\\venv\\lib\\site-packages (from jupysql) (8.11.0)\n",
      "Requirement already satisfied: sqlalchemy<2.0,>=0.6.7 in c:\\github\\ibm-data-science\\venv\\lib\\site-packages (from jupysql) (1.4.46)\n",
      "Requirement already satisfied: sqlparse in c:\\github\\ibm-data-science\\venv\\lib\\site-packages (from jupysql) (0.4.3)\n",
      "Requirement already satisfied: ipython-genutils>=0.1.0 in c:\\github\\ibm-data-science\\venv\\lib\\site-packages (from jupysql) (0.2.0)\n",
      "Requirement already satisfied: jinja2 in c:\\github\\ibm-data-science\\venv\\lib\\site-packages (from jupysql) (3.1.2)\n",
      "Requirement already satisfied: ploomber-core>=0.2.4 in c:\\github\\ibm-data-science\\venv\\lib\\site-packages (from jupysql) (0.2.6)\n",
      "Requirement already satisfied: numpy in c:\\github\\ibm-data-science\\venv\\lib\\site-packages (from duckdb-engine) (1.24.2)\n",
      "Requirement already satisfied: backcall in c:\\github\\ibm-data-science\\venv\\lib\\site-packages (from ipython>=1.0->jupysql) (0.2.0)\n",
      "Requirement already satisfied: decorator in c:\\github\\ibm-data-science\\venv\\lib\\site-packages (from ipython>=1.0->jupysql) (5.1.1)\n",
      "Requirement already satisfied: jedi>=0.16 in c:\\github\\ibm-data-science\\venv\\lib\\site-packages (from ipython>=1.0->jupysql) (0.18.2)\n",
      "Requirement already satisfied: matplotlib-inline in c:\\github\\ibm-data-science\\venv\\lib\\site-packages (from ipython>=1.0->jupysql) (0.1.6)\n",
      "Requirement already satisfied: pickleshare in c:\\github\\ibm-data-science\\venv\\lib\\site-packages (from ipython>=1.0->jupysql) (0.7.5)\n",
      "Requirement already satisfied: prompt-toolkit!=3.0.37,<3.1.0,>=3.0.30 in c:\\github\\ibm-data-science\\venv\\lib\\site-packages (from ipython>=1.0->jupysql) (3.0.38)\n",
      "Requirement already satisfied: pygments>=2.4.0 in c:\\github\\ibm-data-science\\venv\\lib\\site-packages (from ipython>=1.0->jupysql) (2.14.0)\n",
      "Requirement already satisfied: stack-data in c:\\github\\ibm-data-science\\venv\\lib\\site-packages (from ipython>=1.0->jupysql) (0.6.2)\n",
      "Requirement already satisfied: traitlets>=5 in c:\\github\\ibm-data-science\\venv\\lib\\site-packages (from ipython>=1.0->jupysql) (5.9.0)\n",
      "Requirement already satisfied: colorama in c:\\github\\ibm-data-science\\venv\\lib\\site-packages (from ipython>=1.0->jupysql) (0.4.6)\n",
      "Requirement already satisfied: click in c:\\github\\ibm-data-science\\venv\\lib\\site-packages (from ploomber-core>=0.2.4->jupysql) (8.1.3)\n",
      "Requirement already satisfied: pyyaml in c:\\github\\ibm-data-science\\venv\\lib\\site-packages (from ploomber-core>=0.2.4->jupysql) (6.0)\n",
      "Requirement already satisfied: posthog in c:\\github\\ibm-data-science\\venv\\lib\\site-packages (from ploomber-core>=0.2.4->jupysql) (2.3.1)\n",
      "Requirement already satisfied: greenlet!=0.4.17 in c:\\github\\ibm-data-science\\venv\\lib\\site-packages (from sqlalchemy<2.0,>=0.6.7->jupysql) (2.0.2)\n",
      "Requirement already satisfied: MarkupSafe>=2.0 in c:\\github\\ibm-data-science\\venv\\lib\\site-packages (from jinja2->jupysql) (2.1.2)\n",
      "Requirement already satisfied: parso<0.9.0,>=0.8.0 in c:\\github\\ibm-data-science\\venv\\lib\\site-packages (from jedi>=0.16->ipython>=1.0->jupysql) (0.8.3)\n",
      "Requirement already satisfied: wcwidth in c:\\github\\ibm-data-science\\venv\\lib\\site-packages (from prompt-toolkit!=3.0.37,<3.1.0,>=3.0.30->ipython>=1.0->jupysql) (0.2.6)\n",
      "Requirement already satisfied: requests<3.0,>=2.7 in c:\\github\\ibm-data-science\\venv\\lib\\site-packages (from posthog->ploomber-core>=0.2.4->jupysql) (2.28.2)\n",
      "Requirement already satisfied: six>=1.5 in c:\\github\\ibm-data-science\\venv\\lib\\site-packages (from posthog->ploomber-core>=0.2.4->jupysql) (1.16.0)\n",
      "Requirement already satisfied: monotonic>=1.5 in c:\\github\\ibm-data-science\\venv\\lib\\site-packages (from posthog->ploomber-core>=0.2.4->jupysql) (1.6)\n",
      "Requirement already satisfied: backoff>=1.10.0 in c:\\github\\ibm-data-science\\venv\\lib\\site-packages (from posthog->ploomber-core>=0.2.4->jupysql) (2.2.1)\n",
      "Requirement already satisfied: python-dateutil>2.1 in c:\\github\\ibm-data-science\\venv\\lib\\site-packages (from posthog->ploomber-core>=0.2.4->jupysql) (2.8.2)\n",
      "Requirement already satisfied: executing>=1.2.0 in c:\\github\\ibm-data-science\\venv\\lib\\site-packages (from stack-data->ipython>=1.0->jupysql) (1.2.0)\n",
      "Requirement already satisfied: asttokens>=2.1.0 in c:\\github\\ibm-data-science\\venv\\lib\\site-packages (from stack-data->ipython>=1.0->jupysql) (2.2.1)\n",
      "Requirement already satisfied: pure-eval in c:\\github\\ibm-data-science\\venv\\lib\\site-packages (from stack-data->ipython>=1.0->jupysql) (0.2.2)\n",
      "Requirement already satisfied: charset-normalizer<4,>=2 in c:\\github\\ibm-data-science\\venv\\lib\\site-packages (from requests<3.0,>=2.7->posthog->ploomber-core>=0.2.4->jupysql) (3.0.1)\n",
      "Requirement already satisfied: idna<4,>=2.5 in c:\\github\\ibm-data-science\\venv\\lib\\site-packages (from requests<3.0,>=2.7->posthog->ploomber-core>=0.2.4->jupysql) (3.4)\n",
      "Requirement already satisfied: urllib3<1.27,>=1.21.1 in c:\\github\\ibm-data-science\\venv\\lib\\site-packages (from requests<3.0,>=2.7->posthog->ploomber-core>=0.2.4->jupysql) (1.26.14)\n",
      "Requirement already satisfied: certifi>=2017.4.17 in c:\\github\\ibm-data-science\\venv\\lib\\site-packages (from requests<3.0,>=2.7->posthog->ploomber-core>=0.2.4->jupysql) (2022.12.7)\n"
     ]
    },
    {
     "name": "stderr",
     "output_type": "stream",
     "text": [
      "\n",
      "[notice] A new release of pip available: 22.3.1 -> 23.0.1\n",
      "[notice] To update, run: python.exe -m pip install --upgrade pip\n"
     ]
    }
   ],
   "source": [
    "# These libraries are pre-installed in SN Labs. If running in another environment please uncomment lines below to install them:\n",
    "# !pip install ibm_db ibm_db_sa\n",
    "# Ensure we don't load_ext with sqlalchemy>=1.4 (incompadible)\n",
    "# !pip uninstall sqlalchemy==1.4 -y && pip install sqlalchemy==1.3.24\n",
    "# !pip install ipython-sql\n",
    "!pip install jupysql duckdb duckdb-engine\n"
   ]
  },
  {
   "cell_type": "code",
   "execution_count": 2,
   "metadata": {},
   "outputs": [],
   "source": [
    "%load_ext sql\n"
   ]
  },
  {
   "cell_type": "markdown",
   "metadata": {},
   "source": [
    "In the next cell enter your db2 connection string. Recall you created Service Credentials for your Db2 instance in first lab in Week 3. From your Db2 service credentials copy everything after db2:// (except the double quote at the end) and paste it in the cell below after ibm_db_sa://\n",
    "\n",
    "<img src=\"https://cf-courses-data.s3.us.cloud-object-storage.appdomain.cloud/IBMDeveloperSkillsNetwork-DB0201EN-SkillsNetwork/labs/FinalModule_Coursera_V5/images/details.png\">\n"
   ]
  },
  {
   "cell_type": "code",
   "execution_count": 3,
   "metadata": {},
   "outputs": [],
   "source": [
    "# Remember the connection string is of the format:\n",
    "# %sql ibm_db_sa://my-username:my-password@my-hostname:my-port/my-db-name?security=SSL\n",
    "# Enter the connection string for your Db2 on Cloud database instance below\n",
    "# %sql ibm_db_sa://\n",
    "%sql duckdb:///:memory:\n"
   ]
  },
  {
   "cell_type": "markdown",
   "metadata": {},
   "source": [
    "## Problems\n",
    "\n",
    "Now write and execute SQL queries to solve assignment problems\n",
    "\n",
    "### Problem 1\n",
    "\n",
    "##### Find the total number of crimes recorded in the CRIME table.\n"
   ]
  },
  {
   "cell_type": "code",
   "execution_count": 4,
   "metadata": {},
   "outputs": [
    {
     "name": "stdout",
     "output_type": "stream",
     "text": [
      "*  duckdb:///:memory:\n",
      "Done.\n"
     ]
    },
    {
     "data": {
      "text/plain": "[(533,)]",
      "text/html": "<table>\n    <tr>\n        <th>total_crimes</th>\n    </tr>\n    <tr>\n        <td>533</td>\n    </tr>\n</table>"
     },
     "execution_count": 4,
     "metadata": {},
     "output_type": "execute_result"
    }
   ],
   "source": [
    "%%sql\n",
    "select count(*) total_crimes from ChicagoCrimeData.csv;"
   ]
  },
  {
   "cell_type": "markdown",
   "metadata": {},
   "source": [
    "### Problem 2\n",
    "\n",
    "##### List community areas with per capita income less than 11000.\n"
   ]
  },
  {
   "cell_type": "code",
   "execution_count": 5,
   "metadata": {},
   "outputs": [
    {
     "name": "stdout",
     "output_type": "stream",
     "text": [
      "*  duckdb:///:memory:\n",
      "Done.\n"
     ]
    },
    {
     "data": {
      "text/plain": "[('West Garfield Park',),\n ('South Lawndale',),\n ('Fuller Park',),\n ('Riverdale',)]",
      "text/html": "<table>\n    <tr>\n        <th>COMMUNITY_AREA_NAME</th>\n    </tr>\n    <tr>\n        <td>West Garfield Park</td>\n    </tr>\n    <tr>\n        <td>South Lawndale</td>\n    </tr>\n    <tr>\n        <td>Fuller Park</td>\n    </tr>\n    <tr>\n        <td>Riverdale</td>\n    </tr>\n</table>"
     },
     "execution_count": 5,
     "metadata": {},
     "output_type": "execute_result"
    }
   ],
   "source": [
    "%%sql\n",
    "select COMMUNITY_AREA_NAME from ChicagoCensusData.csv where PER_CAPITA_INCOME < 11000;\n"
   ]
  },
  {
   "cell_type": "markdown",
   "metadata": {},
   "source": [
    "### Problem 3\n",
    "\n",
    "##### List all case numbers for crimes  involving minors?(children are not considered minors for the purposes of crime analysis)\n",
    "\n"
   ]
  },
  {
   "cell_type": "code",
   "execution_count": 6,
   "metadata": {},
   "outputs": [
    {
     "name": "stdout",
     "output_type": "stream",
     "text": [
      "*  duckdb:///:memory:\n",
      "Done.\n"
     ]
    },
    {
     "data": {
      "text/plain": "[('HL266884',), ('HK238408',)]",
      "text/html": "<table>\n    <tr>\n        <th>CASE_NUMBER</th>\n    </tr>\n    <tr>\n        <td>HL266884</td>\n    </tr>\n    <tr>\n        <td>HK238408</td>\n    </tr>\n</table>"
     },
     "execution_count": 6,
     "metadata": {},
     "output_type": "execute_result"
    }
   ],
   "source": [
    "%%sql\n",
    "select CASE_NUMBER from ChicagoCrimeData.csv where DESCRIPTION like '%MINOR%';\n"
   ]
  },
  {
   "cell_type": "markdown",
   "metadata": {},
   "source": [
    "### Problem 4\n",
    "\n",
    "##### List all kidnapping crimes involving a child?\n"
   ]
  },
  {
   "cell_type": "code",
   "execution_count": 7,
   "metadata": {},
   "outputs": [
    {
     "name": "stdout",
     "output_type": "stream",
     "text": [
      "*  duckdb:///:memory:\n",
      "Done.\n"
     ]
    },
    {
     "data": {
      "text/plain": "[(5276766, 'HN144152', datetime.date(2007, 1, 26), '050XX W VAN BUREN ST', '1792', 'KIDNAPPING', 'CHILD ABDUCTION/STRANGER', 'STREET', False, False, 1533, 15, 29, 25, '20', 1143050, 1897546, 2007, 41.87490841, -87.75024931, '(41.874908413, -87.750249307)')]",
      "text/html": "<table>\n    <tr>\n        <th>ID</th>\n        <th>CASE_NUMBER</th>\n        <th>DATE</th>\n        <th>BLOCK</th>\n        <th>IUCR</th>\n        <th>PRIMARY_TYPE</th>\n        <th>DESCRIPTION</th>\n        <th>LOCATION_DESCRIPTION</th>\n        <th>ARREST</th>\n        <th>DOMESTIC</th>\n        <th>BEAT</th>\n        <th>DISTRICT</th>\n        <th>WARD</th>\n        <th>COMMUNITY_AREA_NUMBER</th>\n        <th>FBICODE</th>\n        <th>X_COORDINATE</th>\n        <th>Y_COORDINATE</th>\n        <th>YEAR</th>\n        <th>LATITUDE</th>\n        <th>LONGITUDE</th>\n        <th>LOCATION</th>\n    </tr>\n    <tr>\n        <td>5276766</td>\n        <td>HN144152</td>\n        <td>2007-01-26</td>\n        <td>050XX W VAN BUREN ST</td>\n        <td>1792</td>\n        <td>KIDNAPPING</td>\n        <td>CHILD ABDUCTION/STRANGER</td>\n        <td>STREET</td>\n        <td>False</td>\n        <td>False</td>\n        <td>1533</td>\n        <td>15</td>\n        <td>29</td>\n        <td>25</td>\n        <td>20</td>\n        <td>1143050</td>\n        <td>1897546</td>\n        <td>2007</td>\n        <td>41.87490841</td>\n        <td>-87.75024931</td>\n        <td>(41.874908413, -87.750249307)</td>\n    </tr>\n</table>"
     },
     "execution_count": 7,
     "metadata": {},
     "output_type": "execute_result"
    }
   ],
   "source": [
    "%%sql\n",
    "select * from ChicagoCrimeData.csv where PRIMARY_TYPE like '%KIDNAPPING%';\n"
   ]
  },
  {
   "cell_type": "markdown",
   "metadata": {},
   "source": [
    "### Problem 5\n",
    "\n",
    "##### What kinds of crimes were recorded at schools?\n"
   ]
  },
  {
   "cell_type": "code",
   "execution_count": 8,
   "metadata": {},
   "outputs": [
    {
     "name": "stdout",
     "output_type": "stream",
     "text": [
      "*  duckdb:///:memory:\n",
      "Done.\n"
     ]
    },
    {
     "data": {
      "text/plain": "[('BATTERY', 'SIMPLE'),\n ('BATTERY', 'PRO EMP HANDS NO/MIN INJURY'),\n ('CRIMINAL DAMAGE', 'TO VEHICLE'),\n ('NARCOTICS', 'POSS: HEROIN(WHITE)'),\n ('NARCOTICS', 'MANU/DEL:CANNABIS 10GM OR LESS'),\n ('ASSAULT', 'PRO EMP HANDS NO/MIN INJURY'),\n ('CRIMINAL TRESPASS', 'TO LAND'),\n ('PUBLIC PEACE VIOLATION', 'BOMB THREAT')]",
      "text/html": "<table>\n    <tr>\n        <th>PRIMARY_TYPE</th>\n        <th>DESCRIPTION</th>\n    </tr>\n    <tr>\n        <td>BATTERY</td>\n        <td>SIMPLE</td>\n    </tr>\n    <tr>\n        <td>BATTERY</td>\n        <td>PRO EMP HANDS NO/MIN INJURY</td>\n    </tr>\n    <tr>\n        <td>CRIMINAL DAMAGE</td>\n        <td>TO VEHICLE</td>\n    </tr>\n    <tr>\n        <td>NARCOTICS</td>\n        <td>POSS: HEROIN(WHITE)</td>\n    </tr>\n    <tr>\n        <td>NARCOTICS</td>\n        <td>MANU/DEL:CANNABIS 10GM OR LESS</td>\n    </tr>\n    <tr>\n        <td>ASSAULT</td>\n        <td>PRO EMP HANDS NO/MIN INJURY</td>\n    </tr>\n    <tr>\n        <td>CRIMINAL TRESPASS</td>\n        <td>TO LAND</td>\n    </tr>\n    <tr>\n        <td>PUBLIC PEACE VIOLATION</td>\n        <td>BOMB THREAT</td>\n    </tr>\n</table>"
     },
     "execution_count": 8,
     "metadata": {},
     "output_type": "execute_result"
    }
   ],
   "source": [
    "%%sql\n",
    "select DISTINCT PRIMARY_TYPE, DESCRIPTION from ChicagoCrimeData.csv where LOCATION_DESCRIPTION like '%SCHOOL%';\n"
   ]
  },
  {
   "cell_type": "markdown",
   "metadata": {},
   "source": [
    "### Problem 6\n",
    "\n",
    "##### List the average safety score for each type of school.\n"
   ]
  },
  {
   "cell_type": "code",
   "execution_count": 9,
   "metadata": {},
   "outputs": [
    {
     "name": "stdout",
     "output_type": "stream",
     "text": [
      "*  duckdb:///:memory:\n",
      "Done.\n"
     ]
    },
    {
     "data": {
      "text/plain": "[('ES', 49.52038369304557), ('HS', 49.62352941176471), ('MS', 48.0)]",
      "text/html": "<table>\n    <tr>\n        <th>Elementary, Middle, or High School</th>\n        <th>avg(&quot;SAFETY_SCORE&quot;)</th>\n    </tr>\n    <tr>\n        <td>ES</td>\n        <td>49.52038369304557</td>\n    </tr>\n    <tr>\n        <td>HS</td>\n        <td>49.62352941176471</td>\n    </tr>\n    <tr>\n        <td>MS</td>\n        <td>48.0</td>\n    </tr>\n</table>"
     },
     "execution_count": 9,
     "metadata": {},
     "output_type": "execute_result"
    }
   ],
   "source": [
    "%%sql\n",
    "select \"Elementary, Middle, or High School\", AVG(SAFETY_SCORE) from ChicagoPublicSchools.csv GROUP BY \"Elementary, Middle, or High School\";\n"
   ]
  },
  {
   "cell_type": "markdown",
   "metadata": {},
   "source": [
    "### Problem 7\n",
    "\n",
    "##### List 5 community areas with highest % of households below poverty line \n"
   ]
  },
  {
   "cell_type": "code",
   "execution_count": 10,
   "metadata": {},
   "outputs": [
    {
     "name": "stdout",
     "output_type": "stream",
     "text": [
      "*  duckdb:///:memory:\n",
      "Done.\n"
     ]
    },
    {
     "data": {
      "text/plain": "[('Riverdale',),\n ('Fuller Park',),\n ('Englewood',),\n ('North Lawndale',),\n ('East Garfield Park',)]",
      "text/html": "<table>\n    <tr>\n        <th>COMMUNITY_AREA_NAME</th>\n    </tr>\n    <tr>\n        <td>Riverdale</td>\n    </tr>\n    <tr>\n        <td>Fuller Park</td>\n    </tr>\n    <tr>\n        <td>Englewood</td>\n    </tr>\n    <tr>\n        <td>North Lawndale</td>\n    </tr>\n    <tr>\n        <td>East Garfield Park</td>\n    </tr>\n</table>"
     },
     "execution_count": 10,
     "metadata": {},
     "output_type": "execute_result"
    }
   ],
   "source": [
    "%%sql\n",
    "select COMMUNITY_AREA_NAME from ChicagoCensusData.csv order by PERCENT_HOUSEHOLDS_BELOW_POVERTY desc limit 5;\n"
   ]
  },
  {
   "cell_type": "markdown",
   "metadata": {},
   "source": [
    "### Problem 8\n",
    "\n",
    "##### Which community area is most crime prone?\n"
   ]
  },
  {
   "cell_type": "code",
   "execution_count": 11,
   "metadata": {},
   "outputs": [
    {
     "name": "stdout",
     "output_type": "stream",
     "text": [
      "*  duckdb:///:memory:\n",
      "Done.\n"
     ]
    },
    {
     "data": {
      "text/plain": "[(25, 'Austin', 43)]",
      "text/html": "<table>\n    <tr>\n        <th>COMMUNITY_AREA_NUMBER</th>\n        <th>COMMUNITY_AREA_NAME</th>\n        <th>total_crimes</th>\n    </tr>\n    <tr>\n        <td>25</td>\n        <td>Austin</td>\n        <td>43</td>\n    </tr>\n</table>"
     },
     "execution_count": 11,
     "metadata": {},
     "output_type": "execute_result"
    }
   ],
   "source": [
    "%%sql\n",
    "select a.COMMUNITY_AREA_NUMBER, b.COMMUNITY_AREA_NAME, count(*) total_crimes from ChicagoCrimeData.csv a, ChicagoCensusData.csv b where a.COMMUNITY_AREA_NUMBER = b.COMMUNITY_AREA_NUMBER group by a.COMMUNITY_AREA_NUMBER, b.COMMUNITY_AREA_NAME order by total_crimes desc limit 1;\n"
   ]
  },
  {
   "cell_type": "markdown",
   "metadata": {},
   "source": [
    "Double-click **here** for a hint\n",
    "\n",
    "<!--\n",
    "Query for the 'community area number' that is most crime prone.\n",
    "-->\n"
   ]
  },
  {
   "cell_type": "markdown",
   "metadata": {},
   "source": [
    "### Problem 9\n",
    "\n",
    "##### Use a sub-query to find the name of the community area with highest hardship index\n"
   ]
  },
  {
   "cell_type": "code",
   "execution_count": 12,
   "metadata": {},
   "outputs": [
    {
     "name": "stdout",
     "output_type": "stream",
     "text": [
      "*  duckdb:///:memory:\n",
      "Done.\n"
     ]
    },
    {
     "data": {
      "text/plain": "[('Riverdale',)]",
      "text/html": "<table>\n    <tr>\n        <th>COMMUNITY_AREA_NAME</th>\n    </tr>\n    <tr>\n        <td>Riverdale</td>\n    </tr>\n</table>"
     },
     "execution_count": 12,
     "metadata": {},
     "output_type": "execute_result"
    }
   ],
   "source": [
    "%%sql\n",
    "select COMMUNITY_AREA_NAME from ChicagoCensusData.csv where HARDSHIP_INDEX = (select max(HARDSHIP_INDEX) from ChicagoCensusData.csv);\n"
   ]
  },
  {
   "cell_type": "markdown",
   "metadata": {},
   "source": [
    "### Problem 10\n",
    "\n",
    "##### Use a sub-query to determine the Community Area Name with most number of crimes?\n"
   ]
  },
  {
   "cell_type": "code",
   "execution_count": 13,
   "metadata": {},
   "outputs": [
    {
     "name": "stdout",
     "output_type": "stream",
     "text": [
      "*  duckdb:///:memory:\n",
      "Done.\n"
     ]
    },
    {
     "data": {
      "text/plain": "[('Austin',)]",
      "text/html": "<table>\n    <tr>\n        <th>COMMUNITY_AREA_NAME</th>\n    </tr>\n    <tr>\n        <td>Austin</td>\n    </tr>\n</table>"
     },
     "execution_count": 13,
     "metadata": {},
     "output_type": "execute_result"
    }
   ],
   "source": [
    "%%sql\n",
    "select COMMUNITY_AREA_NAME from ChicagoCensusData.csv where COMMUNITY_AREA_NUMBER = (select COMMUNITY_AREA_NUMBER from ChicagoCrimeData.csv group by COMMUNITY_AREA_NUMBER order by count(*) desc limit 1);\n",
    "\n",
    "\n"
   ]
  },
  {
   "cell_type": "markdown",
   "metadata": {},
   "source": [
    "Copyright © 2020 [cognitiveclass.ai](cognitiveclass.ai?utm_source=bducopyrightlink&utm_medium=dswb&utm_campaign=bdu). This notebook and its source code are released under the terms of the [MIT License](https://bigdatauniversity.com/mit-license?utm_medium=Exinfluencer&utm_source=Exinfluencer&utm_content=000026UJ&utm_term=10006555&utm_id=NA-SkillsNetwork-Channel-SkillsNetworkCoursesIBMDeveloperSkillsNetworkDB0201ENSkillsNetwork22-2022-01-01&cm_mmc=Email_Newsletter-_-Developer_Ed%2BTech-_-WW_WW-_-SkillsNetwork-Courses-IBMDeveloperSkillsNetwork-DB0201EN-SkillsNetwork-20127838&cm_mmca1=000026UJ&cm_mmca2=10006555&cm_mmca3=M12345678&cvosrc=email.Newsletter.M12345678&cvo_campaign=000026UJ).\n"
   ]
  },
  {
   "cell_type": "markdown",
   "metadata": {},
   "source": [
    "## Author(s)\n",
    "\n",
    "<h4> Hima Vasudevan </h4>\n",
    "<h4> Rav Ahuja </h4>\n",
    "<h4> Ramesh Sannreddy </h4>\n",
    "\n",
    "## Contribtuor(s)\n",
    "\n",
    "<h4> Malika Singla </h4>\n",
    "\n",
    "## Change log\n",
    "\n",
    "| Date       | Version | Changed by    | Change Description                 |\n",
    "| ---------- | ------- | ------------- | ---------------------------------- |\n",
    "| 2021-11-17  | 2.6  | Lakshmi  | Updated library  |\n",
    "| 2021-05-19 | 2.4     | Lakshmi Holla | Updated the question   |\n",
    "| 2021-04-30 | 2.3     | Malika Singla | Updated the libraries   |\n",
    "| 2021-01-15 | 2.2     | Rav Ahuja | Removed problem 11 and fixed changelog |\n",
    "| 2020-11-25 | 2.1     | Ramesh Sannareddy | Updated the problem statements, and datasets |\n",
    "| 2020-09-05 | 2.0     | Malika Singla | Moved lab to course repo in GitLab |\n",
    "| 2018-07-18 | 1.0     | Rav Ahuja | Several updates including loading instructions |\n",
    "| 2018-05-04 | 0.1     | Hima Vasudevan | Created initial version |\n",
    "\n",
    "## <h3 align=\"center\"> © IBM Corporation 2020. All rights reserved. <h3/>\n"
   ]
  }
 ],
 "metadata": {
  "kernelspec": {
   "display_name": "Python 3",
   "language": "python",
   "name": "python3"
  },
  "language_info": {
   "codemirror_mode": {
    "name": "ipython",
    "version": 3
   },
   "file_extension": ".py",
   "mimetype": "text/x-python",
   "name": "python",
   "nbconvert_exporter": "python",
   "pygments_lexer": "ipython3",
   "version": "3.11.0"
  },
  "vscode": {
   "interpreter": {
    "hash": "c261aea317cc0286b3b3261fbba9abdec21eaa57589985bb7a274bf54d6cc0a7"
   }
  }
 },
 "nbformat": 4,
 "nbformat_minor": 4
}
